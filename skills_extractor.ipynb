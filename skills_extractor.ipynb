{
 "cells": [
  {
   "cell_type": "code",
   "execution_count": null,
   "metadata": {},
   "outputs": [],
   "source": [
    "from pyresparser import ResumeParser\n",
    "import os\n",
    "from docx import Document"
   ]
  },
  {
   "cell_type": "code",
   "execution_count": null,
   "metadata": {},
   "outputs": [
    {
     "name": "stdout",
     "output_type": "stream",
     "text": [
      "CV.pdf\n"
     ]
    }
   ],
   "source": [
    "##file format should be in .txt , .docx or .pdf only\n",
    "filed=input()"
   ]
  },
  {
   "cell_type": "code",
   "execution_count": null,
   "metadata": {},
   "outputs": [
    {
     "name": "stdout",
     "output_type": "stream",
     "text": [
      "['Computer science', 'Keras', 'Statistics', 'Opencv', 'Coding', 'Ui', 'Python', 'Training', 'Modeling', 'Sci', 'Analysis', 'Testing', 'Github', 'Chemicals', 'Database', 'Prototype', 'Engineering', 'Api', 'Pyqt', 'Html', 'C', 'C++', 'Algorithms', 'Css', 'Design', 'Word', 'Programming']\n"
     ]
    }
   ],
   "source": [
    "import sys\n",
    "from pyresparser import ResumeParser\n",
    "from docx import Document\n",
    "import os\n",
    "\n",
    "# Accept file path as input (should be .txt, .docx, or .pdf)\n",
    "filed = input('Enter resume file path: ')\n",
    "\n",
    "ext = os.path.splitext(filed)[-1].lower()\n",
    "skills = None\n",
    "try:\n",
    "    if ext == '.txt':\n",
    "        # Read as utf-8, fallback to latin-1 if needed\n",
    "        try:\n",
    "            with open(filed, 'r', encoding='utf-8') as file:\n",
    "                text = file.read()\n",
    "        except UnicodeDecodeError:\n",
    "            with open(filed, 'r', encoding='latin-1') as file:\n",
    "                text = file.read()\n",
    "        doc = Document()\n",
    "        doc.add_paragraph(text)\n",
    "        doc.save('temp_text.docx')\n",
    "        data = ResumeParser('temp_text.docx').get_extracted_data()\n",
    "        os.remove('temp_text.docx')\n",
    "    else:\n",
    "        data = ResumeParser(filed).get_extracted_data()\n",
    "    skills = data.get('skills', None)\n",
    "    print('Extracted skills:', skills)\n",
    "except Exception as e:\n",
    "    print('Error extracting skills:', e)"
   ]
  },
  {
   "cell_type": "code",
   "execution_count": null,
   "metadata": {},
   "outputs": [],
   "source": []
  },
  {
   "cell_type": "code",
   "execution_count": null,
   "metadata": {},
   "outputs": [],
   "source": [
    "#K:\\resume_sample\\cv.pdf\n",
    "#K:\\resume_sample\\AmanSharma.pdf"
   ]
  },
  {
   "cell_type": "code",
   "execution_count": null,
   "metadata": {},
   "outputs": [],
   "source": []
  }
 ],
 "metadata": {
  "kernelspec": {
   "display_name": "Python 3",
   "language": "python",
   "name": "python3"
  },
  "language_info": {
   "codemirror_mode": {
    "name": "ipython",
    "version": 3
   },
   "file_extension": ".py",
   "mimetype": "text/x-python",
   "name": "python",
   "nbconvert_exporter": "python",
   "pygments_lexer": "ipython3",
   "version": "3.8.8"
  }
 },
 "nbformat": 4,
 "nbformat_minor": 4
}
